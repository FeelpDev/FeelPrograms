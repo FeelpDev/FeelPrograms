{
  "nbformat": 4,
  "nbformat_minor": 0,
  "metadata": {
    "colab": {
      "provenance": []
    },
    "kernelspec": {
      "name": "python3",
      "display_name": "Python 3"
    },
    "language_info": {
      "name": "python"
    }
  },
  "cells": [
    {
      "cell_type": "code",
      "execution_count": null,
      "metadata": {
        "id": "vJ1qfk_FFVFe"
      },
      "outputs": [],
      "source": [
        "!apt-get install openjdk-8-jdk-headless -qq > /dev/null"
      ]
    },
    {
      "cell_type": "code",
      "source": [
        "!wget -q https://archive.apache.org/dist/spark/spark-3.1.2/spark-3.1.2-bin-hadoop2.7.tgz"
      ],
      "metadata": {
        "id": "2GGGd56oGFWs"
      },
      "execution_count": null,
      "outputs": []
    },
    {
      "cell_type": "code",
      "source": [
        "!tar xf spark-3.1.2-bin-hadoop2.7.tgz"
      ],
      "metadata": {
        "id": "a0DfN3H_GIO2"
      },
      "execution_count": null,
      "outputs": []
    },
    {
      "cell_type": "code",
      "source": [
        "!pip install -q findspark"
      ],
      "metadata": {
        "id": "Mz_MS0-AGJhv"
      },
      "execution_count": null,
      "outputs": []
    },
    {
      "cell_type": "code",
      "source": [
        "!pip install -q pyspark"
      ],
      "metadata": {
        "colab": {
          "base_uri": "https://localhost:8080/"
        },
        "id": "6R8Gb9h3GTwM",
        "outputId": "55938107-d349-41b5-f00b-3cf69158829a"
      },
      "execution_count": null,
      "outputs": [
        {
          "output_type": "stream",
          "name": "stdout",
          "text": [
            "\u001b[2K     \u001b[90m━━━━━━━━━━━━━━━━━━━━━━━━━━━━━━━━━━━━━━━\u001b[0m \u001b[32m310.8/310.8 MB\u001b[0m \u001b[31m4.8 MB/s\u001b[0m eta \u001b[36m0:00:00\u001b[0m\n",
            "\u001b[?25h  Preparing metadata (setup.py) ... \u001b[?25l\u001b[?25hdone\n",
            "  Building wheel for pyspark (setup.py) ... \u001b[?25l\u001b[?25hdone\n"
          ]
        }
      ]
    },
    {
      "cell_type": "code",
      "source": [
        "import os\n",
        "os.environ['JAVA_HOME'] = '/usr/lib/jvm/java-8-openjdk-amd64'\n",
        "os.environ['SPARK_HOME'] = '/content/spark-3.1.2-bin-hadoop2.7'"
      ],
      "metadata": {
        "id": "Mle7snpyGWcS"
      },
      "execution_count": null,
      "outputs": []
    },
    {
      "cell_type": "code",
      "source": [
        "import findspark\n",
        "findspark.init()"
      ],
      "metadata": {
        "id": "YoSjR03sGYMB"
      },
      "execution_count": null,
      "outputs": []
    },
    {
      "cell_type": "code",
      "source": [
        "from pyspark.sql import SparkSession\n",
        "\n",
        "spark = SparkSession.builder\\\n",
        "                    .master('local[*]')\\\n",
        "                    .appName('Spark03')\\\n",
        "                    .getOrCreate()"
      ],
      "metadata": {
        "id": "1dhXL3_AGaXi"
      },
      "execution_count": null,
      "outputs": []
    },
    {
      "cell_type": "code",
      "source": [
        "path = '/content/drivers.csv'\n",
        "df_drivers = spark.read.csv(path, sep=',', inferSchema=True, header=True)"
      ],
      "metadata": {
        "id": "T2rfB3NSGkmz"
      },
      "execution_count": null,
      "outputs": []
    },
    {
      "cell_type": "code",
      "source": [
        "path = '/content/constructors.csv'\n",
        "df_constructors = spark.read.csv(path, sep=',', inferSchema=True, header=True)"
      ],
      "metadata": {
        "id": "York0PK7HU__"
      },
      "execution_count": null,
      "outputs": []
    },
    {
      "cell_type": "code",
      "source": [
        "path = '/content/results.csv'\n",
        "df_results = spark.read.csv(path, sep=',', inferSchema=True, header=True)"
      ],
      "metadata": {
        "id": "Qc-_5ZuoHWuk"
      },
      "execution_count": null,
      "outputs": []
    },
    {
      "cell_type": "code",
      "source": [
        "path = '/content/races.csv'\n",
        "df_races = spark.read.csv(path, sep=',', inferSchema=True, header=True)"
      ],
      "metadata": {
        "id": "PPpYaSbAHZBW"
      },
      "execution_count": null,
      "outputs": []
    },
    {
      "cell_type": "code",
      "source": [
        "path = '/content/circuits.csv'\n",
        "df_circuits = spark.read.csv(path, sep=',', inferSchema=True, header=True)"
      ],
      "metadata": {
        "id": "IYJrlO6_Ha07"
      },
      "execution_count": null,
      "outputs": []
    },
    {
      "cell_type": "code",
      "source": [
        "path = '/content/constructor_results.csv'\n",
        "df_constrresult = spark.read.csv(path, sep=',', inferSchema=True, header=True)"
      ],
      "metadata": {
        "id": "p5s1gAjXHdD3"
      },
      "execution_count": null,
      "outputs": []
    },
    {
      "cell_type": "code",
      "source": [
        "path = '/content/constructor_standings.csv'\n",
        "df_constrstad = spark.read.csv(path, sep=',', inferSchema=True, header=True)"
      ],
      "metadata": {
        "id": "KEdQ_RBlHejM"
      },
      "execution_count": null,
      "outputs": []
    },
    {
      "cell_type": "code",
      "source": [
        "path = '/content/driver_standings.csv'\n",
        "df_driverstand = spark.read.csv(path, sep=',', inferSchema=True, header=True)"
      ],
      "metadata": {
        "id": "LOtCx8_tHgfn"
      },
      "execution_count": null,
      "outputs": []
    },
    {
      "cell_type": "code",
      "source": [
        "path = '/content/lap_times.csv'\n",
        "df_lap = spark.read.csv(path, sep=',', inferSchema=True, header=True)"
      ],
      "metadata": {
        "id": "3Nnorum1HjJ_"
      },
      "execution_count": null,
      "outputs": []
    },
    {
      "cell_type": "code",
      "source": [
        "path = '/content/pit_stops.csv'\n",
        "df_pitstop = spark.read.csv(path, sep=',', inferSchema=True, header=True)"
      ],
      "metadata": {
        "id": "PV9u6N2LHk3o"
      },
      "execution_count": null,
      "outputs": []
    },
    {
      "cell_type": "code",
      "source": [
        "path = '/content/qualifying.csv'\n",
        "df_qualify = spark.read.csv(path, sep=',', inferSchema=True, header=True)"
      ],
      "metadata": {
        "id": "P_rHMSqEHmsG"
      },
      "execution_count": null,
      "outputs": []
    },
    {
      "cell_type": "code",
      "source": [
        "path = '/content/seasons.csv'\n",
        "df_seasons = spark.read.csv(path, sep=',', inferSchema=True, header=True)"
      ],
      "metadata": {
        "id": "31U0msQHHoSs"
      },
      "execution_count": null,
      "outputs": []
    },
    {
      "cell_type": "code",
      "source": [
        "path = '/content/status.csv'\n",
        "df_status = spark.read.csv(path, sep=',', inferSchema=True, header=True)"
      ],
      "metadata": {
        "id": "al1Lg1lcHqS2"
      },
      "execution_count": null,
      "outputs": []
    },
    {
      "cell_type": "code",
      "source": [
        "df_drivers.show(), df_constructors.show(), df_results.show(), df_races.show()\n",
        "df_circuits.show(), df_constrresult.show(), df_constrstad.show(), df_driverstand.show()\n",
        "df_lap.show(), df_pitstop.show(), df_qualify.show(), df_seasons.show(), df_status.show()"
      ],
      "metadata": {
        "id": "kxGp_Rw-H3nk"
      },
      "execution_count": null,
      "outputs": []
    },
    {
      "cell_type": "code",
      "source": [
        "df_drivers = df_drivers.drop('driverRef','number', 'url')\n",
        "df_constructors = df_constructors.drop('constructorRef','url')\n",
        "df_results = df_results.drop('resultId','number','grid','positionText','points','laps','time','milliseconds','fastestLap','rank','fastestLapTime','fastestLapSpeed','statusId','positionOrder')\n",
        "df_races = df_races.drop('circuitId','name','date','time','url','fp1_date','fp1_time','fp2_date','fp2_time','fp3_date','fp3_time','quali_date','quali_time','sprint_date','sprint_time')"
      ],
      "metadata": {
        "id": "mI921SZDIL_c"
      },
      "execution_count": null,
      "outputs": []
    },
    {
      "cell_type": "code",
      "source": [
        "df_drivers = df_drivers\\\n",
        ".toDF('id_piloto','codigo','prim_nome', 'ult_nome', 'dt_nasc', 'nacionalidade')\n",
        "df_constructors = df_constructors\\\n",
        ".toDF('id_construtor','nome','nacionalidade')\n",
        "df_results = df_results\\\n",
        ".toDF('id_corrida','id_piloto','id_construtor','posicao')\n",
        "df_races = df_races\\\n",
        ".toDF('id_corrida','ano','etapa')\n"
      ],
      "metadata": {
        "id": "4F1BvxktINW8"
      },
      "execution_count": null,
      "outputs": []
    },
    {
      "cell_type": "code",
      "source": [
        "df_drivers.show(), df_constructors.show(), df_results.show(), df_races.show()"
      ],
      "metadata": {
        "id": "Kfpr2KAnIPT2"
      },
      "execution_count": null,
      "outputs": []
    },
    {
      "cell_type": "markdown",
      "source": [
        "Consultas.:"
      ],
      "metadata": {
        "id": "Emr1nHckIhCn"
      }
    },
    {
      "cell_type": "code",
      "source": [
        "#1. Liste todas as equipes da historia, com nome e nacionalidade.\n",
        "df_constructors.select('nome', 'nacionalidade').show()"
      ],
      "metadata": {
        "colab": {
          "base_uri": "https://localhost:8080/"
        },
        "id": "ktyQYjHuIXit",
        "outputId": "ad11df17-6342-482c-9fd9-e955d58fdae9"
      },
      "execution_count": null,
      "outputs": [
        {
          "output_type": "stream",
          "name": "stdout",
          "text": [
            "+-----------+-------------+\n",
            "|       nome|nacionalidade|\n",
            "+-----------+-------------+\n",
            "|    McLaren|      British|\n",
            "| BMW Sauber|       German|\n",
            "|   Williams|      British|\n",
            "|    Renault|       French|\n",
            "| Toro Rosso|      Italian|\n",
            "|    Ferrari|      Italian|\n",
            "|     Toyota|     Japanese|\n",
            "|Super Aguri|     Japanese|\n",
            "|   Red Bull|     Austrian|\n",
            "|Force India|       Indian|\n",
            "|      Honda|     Japanese|\n",
            "|     Spyker|        Dutch|\n",
            "|        MF1|      Russian|\n",
            "| Spyker MF1|        Dutch|\n",
            "|     Sauber|        Swiss|\n",
            "|        BAR|      British|\n",
            "|     Jordan|        Irish|\n",
            "|    Minardi|      Italian|\n",
            "|     Jaguar|      British|\n",
            "|      Prost|       French|\n",
            "+-----------+-------------+\n",
            "only showing top 20 rows\n",
            "\n"
          ]
        }
      ]
    },
    {
      "cell_type": "code",
      "source": [
        "#2. Liste todos os pilotos que atuaram pela Ferrari, com primeiro nome, ultimo nome, nacionalidade.\n",
        "df_drivers.join(df_results, 'id_piloto', how = 'inner').select('prim_nome','ult_nome','nacionalidade').where('id_construtor == 6').show()"
      ],
      "metadata": {
        "colab": {
          "base_uri": "https://localhost:8080/"
        },
        "id": "f9f_6thXIktK",
        "outputId": "0c2f7f26-21cf-4e2d-ca41-f072c000548b"
      },
      "execution_count": null,
      "outputs": [
        {
          "output_type": "stream",
          "name": "stdout",
          "text": [
            "+---------+---------+-------------+\n",
            "|prim_nome| ult_nome|nacionalidade|\n",
            "+---------+---------+-------------+\n",
            "|     Kimi|Räikkönen|      Finnish|\n",
            "|   Felipe|    Massa|    Brazilian|\n",
            "|     Kimi|Räikkönen|      Finnish|\n",
            "|   Felipe|    Massa|    Brazilian|\n",
            "|   Felipe|    Massa|    Brazilian|\n",
            "|     Kimi|Räikkönen|      Finnish|\n",
            "|     Kimi|Räikkönen|      Finnish|\n",
            "|   Felipe|    Massa|    Brazilian|\n",
            "|   Felipe|    Massa|    Brazilian|\n",
            "|     Kimi|Räikkönen|      Finnish|\n",
            "|   Felipe|    Massa|    Brazilian|\n",
            "|     Kimi|Räikkönen|      Finnish|\n",
            "|   Felipe|    Massa|    Brazilian|\n",
            "|     Kimi|Räikkönen|      Finnish|\n",
            "|   Felipe|    Massa|    Brazilian|\n",
            "|     Kimi|Räikkönen|      Finnish|\n",
            "|     Kimi|Räikkönen|      Finnish|\n",
            "|   Felipe|    Massa|    Brazilian|\n",
            "|   Felipe|    Massa|    Brazilian|\n",
            "|     Kimi|Räikkönen|      Finnish|\n",
            "+---------+---------+-------------+\n",
            "only showing top 20 rows\n",
            "\n"
          ]
        }
      ]
    },
    {
      "cell_type": "code",
      "source": [
        "#3. Liste os seis primeiros colocados do GP do Brasil no ano de 1993.\n",
        "df_drivers.join(df_results, 'id_piloto', how = 'inner').join(df_races, 'id_corrida', how = 'inner').select('prim_nome','ult_nome','nacionalidade').where('posicao <= \"6\" AND ano == 1993').show(6)"
      ],
      "metadata": {
        "colab": {
          "base_uri": "https://localhost:8080/"
        },
        "id": "NEBGf0mhJbTt",
        "outputId": "7e7b5187-8d31-44eb-bbab-5d047c461374"
      },
      "execution_count": null,
      "outputs": [
        {
          "output_type": "stream",
          "name": "stdout",
          "text": [
            "+---------+----------+-------------+\n",
            "|prim_nome|  ult_nome|nacionalidade|\n",
            "+---------+----------+-------------+\n",
            "|    Alain|     Prost|       French|\n",
            "|   Ayrton|     Senna|    Brazilian|\n",
            "|     Mark|  Blundell|      British|\n",
            "|Christian|Fittipaldi|    Brazilian|\n",
            "|    Jyrki|Järvilehto|      Finnish|\n",
            "|  Gerhard|    Berger|     Austrian|\n",
            "+---------+----------+-------------+\n",
            "only showing top 6 rows\n",
            "\n"
          ]
        }
      ]
    },
    {
      "cell_type": "code",
      "source": [
        "#4. Liste quais pilotos não terminaram o GP do Brasil no ano de 1993.\n",
        "df_drivers.join(df_results, 'id_piloto', how = 'inner').join(df_races, 'id_corrida', how = 'inner').select('prim_nome','ult_nome','nacionalidade').where('posicao like \"%N\" AND ano == 1993').show()"
      ],
      "metadata": {
        "colab": {
          "base_uri": "https://localhost:8080/"
        },
        "id": "B3FHAVK5JwKV",
        "outputId": "c4eb0dc4-54e0-4a51-cec8-13dae3966c0e"
      },
      "execution_count": null,
      "outputs": [
        {
          "output_type": "stream",
          "name": "stdout",
          "text": [
            "+----------+-----------+-------------+\n",
            "| prim_nome|   ult_nome|nacionalidade|\n",
            "+----------+-----------+-------------+\n",
            "|    Martin|    Brundle|      British|\n",
            "|   Michele|   Alboreto|      Italian|\n",
            "|      Érik|      Comas|       French|\n",
            "|  Riccardo|    Patrese|      Italian|\n",
            "|   Michael| Schumacher|       German|\n",
            "|    Johnny|    Herbert|      British|\n",
            "|      Karl| Wendlinger|     Austrian|\n",
            "|    Rubens|Barrichello|    Brazilian|\n",
            "|      Jean|      Alesi|       French|\n",
            "|  Philippe|     Alliot|       French|\n",
            "|  Fabrizio|   Barbazza|      Italian|\n",
            "|     Aguri|     Suzuki|     Japanese|\n",
            "|      Luca|     Badoer|      Italian|\n",
            "|     Damon|       Hill|      British|\n",
            "|Alessandro|    Zanardi|      Italian|\n",
            "|   Michael|   Andretti|     American|\n",
            "|      Ivan|    Capelli|      Italian|\n",
            "|      Ukyo|   Katayama|     Japanese|\n",
            "|    Andrea| de Cesaris|      Italian|\n",
            "|      Karl| Wendlinger|     Austrian|\n",
            "+----------+-----------+-------------+\n",
            "only showing top 20 rows\n",
            "\n"
          ]
        }
      ]
    },
    {
      "cell_type": "code",
      "source": [
        "#5. Liste todos os vencedores da história dos GP's do Brasil\n",
        "df_drivers.join(df_results, 'id_piloto', how = 'inner').join(df_races, 'id_corrida', how = 'inner').select('prim_nome','ult_nome','nacionalidade').where('posicao == 1').show()"
      ],
      "metadata": {
        "colab": {
          "base_uri": "https://localhost:8080/"
        },
        "id": "fIHOv3S4J0O2",
        "outputId": "c0637906-6ea1-4247-b0b3-fe76e34b5c31"
      },
      "execution_count": null,
      "outputs": [
        {
          "output_type": "stream",
          "name": "stdout",
          "text": [
            "+---------+----------+-------------+\n",
            "|prim_nome|  ult_nome|nacionalidade|\n",
            "+---------+----------+-------------+\n",
            "|    Lewis|  Hamilton|      British|\n",
            "|     Kimi| Räikkönen|      Finnish|\n",
            "|   Felipe|     Massa|    Brazilian|\n",
            "|     Kimi| Räikkönen|      Finnish|\n",
            "|   Felipe|     Massa|    Brazilian|\n",
            "|    Lewis|  Hamilton|      British|\n",
            "|   Robert|    Kubica|       Polish|\n",
            "|   Felipe|     Massa|    Brazilian|\n",
            "|    Lewis|  Hamilton|      British|\n",
            "|    Lewis|  Hamilton|      British|\n",
            "|   Heikki|Kovalainen|      Finnish|\n",
            "|   Felipe|     Massa|    Brazilian|\n",
            "|   Felipe|     Massa|    Brazilian|\n",
            "|Sebastian|    Vettel|       German|\n",
            "| Fernando|    Alonso|      Spanish|\n",
            "| Fernando|    Alonso|      Spanish|\n",
            "|    Lewis|  Hamilton|      British|\n",
            "|   Felipe|     Massa|    Brazilian|\n",
            "|     Kimi| Räikkönen|      Finnish|\n",
            "| Fernando|    Alonso|      Spanish|\n",
            "+---------+----------+-------------+\n",
            "only showing top 20 rows\n",
            "\n"
          ]
        }
      ]
    },
    {
      "cell_type": "code",
      "source": [
        "#6. Liste o vencedor de cada corrida, com nome e data da corrida.\n",
        "df_drivers.join(df_results, 'id_piloto', how = 'inner').join(df_races, 'id_corrida', how = 'inner').select('prim_nome','ult_nome','ano').where('posicao == 1').show()"
      ],
      "metadata": {
        "colab": {
          "base_uri": "https://localhost:8080/"
        },
        "id": "dACr1Z3YJ_UB",
        "outputId": "06c16cac-0286-4833-d2dc-c38be725cecb"
      },
      "execution_count": null,
      "outputs": [
        {
          "output_type": "stream",
          "name": "stdout",
          "text": [
            "+---------+----------+----+\n",
            "|prim_nome|  ult_nome| ano|\n",
            "+---------+----------+----+\n",
            "|    Lewis|  Hamilton|2008|\n",
            "|     Kimi| Räikkönen|2008|\n",
            "|   Felipe|     Massa|2008|\n",
            "|     Kimi| Räikkönen|2008|\n",
            "|   Felipe|     Massa|2008|\n",
            "|    Lewis|  Hamilton|2008|\n",
            "|   Robert|    Kubica|2008|\n",
            "|   Felipe|     Massa|2008|\n",
            "|    Lewis|  Hamilton|2008|\n",
            "|    Lewis|  Hamilton|2008|\n",
            "|   Heikki|Kovalainen|2008|\n",
            "|   Felipe|     Massa|2008|\n",
            "|   Felipe|     Massa|2008|\n",
            "|Sebastian|    Vettel|2008|\n",
            "| Fernando|    Alonso|2008|\n",
            "| Fernando|    Alonso|2008|\n",
            "|    Lewis|  Hamilton|2008|\n",
            "|   Felipe|     Massa|2008|\n",
            "|     Kimi| Räikkönen|2007|\n",
            "| Fernando|    Alonso|2007|\n",
            "+---------+----------+----+\n",
            "only showing top 20 rows\n",
            "\n"
          ]
        }
      ]
    },
    {
      "cell_type": "code",
      "source": [
        "#7. Liste o total de corridas realizadas no ano de 2010.\n",
        "df_races.groupBy('ano').count().where('ano == 2010').show()"
      ],
      "metadata": {
        "colab": {
          "base_uri": "https://localhost:8080/"
        },
        "id": "X6B2VMxtKQ_V",
        "outputId": "bac7bd8b-ee85-45bd-cd0e-390e396d7304"
      },
      "execution_count": null,
      "outputs": [
        {
          "output_type": "stream",
          "name": "stdout",
          "text": [
            "+----+-----+\n",
            "| ano|count|\n",
            "+----+-----+\n",
            "|2010|   19|\n",
            "+----+-----+\n",
            "\n"
          ]
        }
      ]
    },
    {
      "cell_type": "code",
      "source": [
        "#8. Liste o total de pontos de cada piloto (somando todas as temporadas), com aniversário e nacionalidade.\n",
        "from pyspark.sql.functions import col, sum\n",
        "df_drivers.join(df_driverstand, col('id_piloto') == col('driverId'), how = 'inner').groupBy('prim_nome', 'ult_nome', 'dt_nasc', 'nacionalidade').agg(sum('points')).show()"
      ],
      "metadata": {
        "colab": {
          "base_uri": "https://localhost:8080/"
        },
        "id": "AqEWKI9HKUPf",
        "outputId": "3bccfedb-585e-4301-c275-9b2869b8f1d6"
      },
      "execution_count": null,
      "outputs": [
        {
          "output_type": "stream",
          "name": "stdout",
          "text": [
            "+---------+--------+----------+-------------+-----------+\n",
            "|prim_nome|ult_nome|   dt_nasc|nacionalidade|sum(points)|\n",
            "+---------+--------+----------+-------------+-----------+\n",
            "|   Johnny| Herbert|1964-06-25|      British|      876.0|\n",
            "| Fabrizio|Barbazza|1963-04-02|      Italian|       27.0|\n",
            "|     Keke| Rosberg|1948-12-06|      Finnish|     1373.5|\n",
            "|   Hubert|   Hahne|1935-03-28|       German|        0.0|\n",
            "|     Phil|    Hill|1927-04-20|     American|      470.0|\n",
            "|   George|  Connor|1906-08-16|     American|        0.0|\n",
            "|     John|  Rhodes|1927-08-18|      British|        0.0|\n",
            "|  Giorgio|   Bassi|1934-01-20|      Italian|        0.0|\n",
            "|      Pat|O'Connor|1928-10-09|     American|        0.0|\n",
            "|    Logan|Sargeant|2000-12-31|     American|        0.0|\n",
            "|  Richard| Robarts|1944-09-22|      British|        0.0|\n",
            "|    Chris|Lawrence|1933-07-27|      British|        0.0|\n",
            "|    Keith|  Greene|1938-01-05|      British|        0.0|\n",
            "|    Mauri|    Rose|1906-05-26|     American|       20.0|\n",
            "|      Rio|Haryanto|1993-01-22|   Indonesian|        0.0|\n",
            "|   Julian|  Bailey|1961-10-09|      British|       14.0|\n",
            "|   Helmut|   Marko|1943-04-27|     Austrian|        0.0|\n",
            "|    Oscar|  Gálvez|1913-08-17|    Argentine|       18.0|\n",
            "|  Charles|     Pic|1990-02-15|       French|        0.0|\n",
            "|  Esteban|   Tuero|1978-04-22|    Argentine|        0.0|\n",
            "+---------+--------+----------+-------------+-----------+\n",
            "only showing top 20 rows\n",
            "\n"
          ]
        }
      ]
    },
    {
      "cell_type": "code",
      "source": [
        "#9. Liste o total de vitorias de cada piloto em toda a historia, com primeiro nome, ultimo nome, aniversário e nacionalidade.\n",
        "df_drivers.join(df_results, 'id_piloto', how = 'inner').select('*').where('posicao == 1').groupBy('prim_nome','ult_nome','dt_nasc', 'nacionalidade').count().show()"
      ],
      "metadata": {
        "colab": {
          "base_uri": "https://localhost:8080/"
        },
        "id": "CeosdZlaKled",
        "outputId": "2eb97c1a-36a9-46ce-d65e-e28da80edef8"
      },
      "execution_count": null,
      "outputs": [
        {
          "output_type": "stream",
          "name": "stdout",
          "text": [
            "+------------+----------+----------+-------------+-----+\n",
            "|   prim_nome|  ult_nome|   dt_nasc|nacionalidade|count|\n",
            "+------------+----------+----------+-------------+-----+\n",
            "|      Johnny|   Herbert|1964-06-25|      British|    3|\n",
            "|        Keke|   Rosberg|1948-12-06|      Finnish|    5|\n",
            "|        Phil|      Hill|1927-04-20|     American|    3|\n",
            "|         Jim|  Rathmann|1928-07-16|     American|    1|\n",
            "|      Gilles|Villeneuve|1950-01-18|     Canadian|    6|\n",
            "|    Ludovico|Scarfiotti|1933-10-18|      Italian|    1|\n",
            "|José Froilán|  González|1922-10-05|    Argentine|    2|\n",
            "|     Johnnie|   Parsons|1918-07-04|     American|    1|\n",
            "|     Alberto|    Ascari|1918-07-13|      Italian|   13|\n",
            "|   Giancarlo|  Baghetti|1934-12-25|      Italian|    1|\n",
            "|        Nico|   Rosberg|1985-06-27|       German|   23|\n",
            "|       Pedro| Rodríguez|1940-01-18|      Mexican|    2|\n",
            "|        Mika|  Häkkinen|1968-09-28|      Finnish|   20|\n",
            "|     Michele|  Alboreto|1956-12-23|      Italian|    5|\n",
            "|        Jean|     Alesi|1964-06-11|       French|    1|\n",
            "|      Pastor| Maldonado|1985-03-09|   Venezuelan|    1|\n",
            "|        Kimi| Räikkönen|1979-10-17|      Finnish|   21|\n",
            "|         Dan|    Gurney|1931-04-13|     American|    4|\n",
            "|       Jimmy|     Bryan|1926-01-28|     American|    1|\n",
            "|       Denny|     Hulme|1936-06-18|New Zealander|    8|\n",
            "+------------+----------+----------+-------------+-----+\n",
            "only showing top 20 rows\n",
            "\n"
          ]
        }
      ]
    },
    {
      "cell_type": "code",
      "source": [
        "#10. Liste todas as vitorias do piloto \"Michael Schumacher\", com primeiro nome, ultimo nome, nome da corrida e data da corrida.\n",
        "from pyspark.sql.functions import col\n",
        "df_drivers.join(df_results, 'id_piloto', how = 'inner').join(df_races, 'id_corrida', how = 'inner').join(df_circuits, col('etapa') == col('circuitId'), how = 'inner').select('prim_nome','ult_nome', 'name', 'ano').where('id_piloto == 30 AND posicao == 1').show()"
      ],
      "metadata": {
        "colab": {
          "base_uri": "https://localhost:8080/"
        },
        "id": "UTAXwmRlKpFX",
        "outputId": "fabdf365-8a07-4911-8bb2-6bba360d689a"
      },
      "execution_count": null,
      "outputs": [
        {
          "output_type": "stream",
          "name": "stdout",
          "text": [
            "+---------+----------+--------------------+----+\n",
            "|prim_nome|  ult_nome|                name| ano|\n",
            "+---------+----------+--------------------+----+\n",
            "|  Michael|Schumacher|Circuit de Barcel...|2006|\n",
            "|  Michael|Schumacher|       Istanbul Park|2006|\n",
            "|  Michael|Schumacher|      Hockenheimring|2006|\n",
            "|  Michael|Schumacher|         Hungaroring|2006|\n",
            "|  Michael|Schumacher|Valencia Street C...|2006|\n",
            "|  Michael|Schumacher|Marina Bay Street...|2006|\n",
            "|  Michael|Schumacher|       Fuji Speedway|2006|\n",
            "|  Michael|Schumacher| Silverstone Circuit|2005|\n",
            "|  Michael|Schumacher|Albert Park Grand...|2004|\n",
            "|  Michael|Schumacher|Sepang Internatio...|2004|\n",
            "|  Michael|Schumacher|Bahrain Internati...|2004|\n",
            "|  Michael|Schumacher|Circuit de Barcel...|2004|\n",
            "|  Michael|Schumacher|       Istanbul Park|2004|\n",
            "|  Michael|Schumacher|Circuit Gilles Vi...|2004|\n",
            "|  Michael|Schumacher|Circuit de Nevers...|2004|\n",
            "|  Michael|Schumacher| Silverstone Circuit|2004|\n",
            "|  Michael|Schumacher|      Hockenheimring|2004|\n",
            "|  Michael|Schumacher|         Hungaroring|2004|\n",
            "|  Michael|Schumacher|Valencia Street C...|2004|\n",
            "|  Michael|Schumacher|Circuit de Spa-Fr...|2004|\n",
            "+---------+----------+--------------------+----+\n",
            "only showing top 20 rows\n",
            "\n"
          ]
        }
      ]
    },
    {
      "cell_type": "code",
      "source": [
        "#11. Liste o total de pontos que cada pais (piloto) somou ao longo das temporadas.\n",
        "from pyspark.sql.functions import col, sum\n",
        "df_drivers.join(df_driverstand, col('id_piloto') == col('driverId'), how = 'inner').groupBy('nacionalidade').agg(sum('points')).show(1000)"
      ],
      "metadata": {
        "colab": {
          "base_uri": "https://localhost:8080/"
        },
        "id": "2aBxOj2OK1Wv",
        "outputId": "6e1a53d3-7ca4-4ba3-a0bf-03674d49664c"
      },
      "execution_count": null,
      "outputs": [
        {
          "output_type": "stream",
          "name": "stdout",
          "text": [
            "+-----------------+------------------+\n",
            "|    nacionalidade|       sum(points)|\n",
            "+-----------------+------------------+\n",
            "|          Mexican|           13361.0|\n",
            "|        Rhodesian|              66.0|\n",
            "|          Finnish|           44579.5|\n",
            "|            Swiss|            2473.0|\n",
            "|             Thai|            1645.0|\n",
            "|           Indian|              55.0|\n",
            "|    South African|            2211.0|\n",
            "|          Chinese|              91.0|\n",
            "|       Indonesian|               0.0|\n",
            "|Argentine-Italian|               0.0|\n",
            "|          Chilean|              30.0|\n",
            "|            Irish|             138.0|\n",
            "|        Argentine| 4219.679999999999|\n",
            "|           Polish|            2748.0|\n",
            "|          British|           96600.2|\n",
            "|         Japanese|            2508.0|\n",
            "|       Australian|           27014.0|\n",
            "|          Spanish|           29840.5|\n",
            "|       Portuguese|              71.0|\n",
            "|        Hungarian|              10.0|\n",
            "|         Austrian|            8256.5|\n",
            "|    New Zealander|            3508.5|\n",
            "|          Italian|15712.119999999999|\n",
            "|           Danish|            2477.0|\n",
            "| American-Italian|               0.0|\n",
            "|      East German|               0.0|\n",
            "|          Russian|            2840.0|\n",
            "|           French|31256.310000000012|\n",
            "|        Malaysian|               0.0|\n",
            "|        Colombian|            2760.0|\n",
            "|            Dutch|           21111.5|\n",
            "|        Uruguayan|               0.0|\n",
            "|        Brazilian|           30831.5|\n",
            "|  Liechtensteiner|               0.0|\n",
            "|       Monegasque|            9817.0|\n",
            "|           German|           79460.0|\n",
            "|       Venezuelan|             790.0|\n",
            "|          Swedish|            2829.0|\n",
            "|         American|            6423.0|\n",
            "|            Czech|               0.0|\n",
            "|          Belgian|            2733.0|\n",
            "|         Canadian|            5015.0|\n",
            "+-----------------+------------------+\n",
            "\n"
          ]
        }
      ]
    },
    {
      "cell_type": "code",
      "source": [
        "#12. Liste o total de pontos que cada equipe somou ao longo das temporadas.\n",
        "from pyspark.sql.functions import col, sum\n",
        "df_constructors.join(df_constrstad, col('id_construtor') == col('constructorStandingsId'), how = 'inner').groupBy('nacionalidade').agg(sum('points')).show()"
      ],
      "metadata": {
        "colab": {
          "base_uri": "https://localhost:8080/"
        },
        "id": "U-ch8ZveLIQ5",
        "outputId": "a48b13ee-2ae4-4f03-8bd7-09a4356826e6"
      },
      "execution_count": null,
      "outputs": [
        {
          "output_type": "stream",
          "name": "stdout",
          "text": [
            "+-------------+-----------+\n",
            "|nacionalidade|sum(points)|\n",
            "+-------------+-----------+\n",
            "|      Mexican|       53.0|\n",
            "|    Rhodesian|        0.0|\n",
            "|        Swiss|      149.0|\n",
            "|       Indian|        6.0|\n",
            "|South African|      257.0|\n",
            "|        Irish|        0.0|\n",
            "|      British|     2115.0|\n",
            "|     Japanese|      119.0|\n",
            "|   Australian|       21.0|\n",
            "|      Spanish|       66.0|\n",
            "|     Austrian|        9.0|\n",
            "|New Zealander|       91.0|\n",
            "|      Italian|      331.0|\n",
            "|    Hong Kong|        6.0|\n",
            "|  East German|       26.0|\n",
            "|      Russian|        5.0|\n",
            "|       French|      210.0|\n",
            "|        Dutch|       21.0|\n",
            "|    Brazilian|       69.0|\n",
            "|       German|      439.0|\n",
            "+-------------+-----------+\n",
            "only showing top 20 rows\n",
            "\n"
          ]
        }
      ]
    }
  ]
}