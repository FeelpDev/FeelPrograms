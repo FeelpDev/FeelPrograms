{
  "cells": [
    {
      "cell_type": "code",
      "execution_count": null,
      "metadata": {
        "id": "LTGyWNM2vWkz"
      },
      "outputs": [],
      "source": [
        "!apt-get install openjdk-8-jdk-headless -qq > /dev/null"
      ]
    },
    {
      "cell_type": "code",
      "execution_count": null,
      "metadata": {
        "id": "XyYjtM_mv9z-"
      },
      "outputs": [],
      "source": [
        "!wget -q https://archive.apache.org/dist/spark/spark-3.1.2/spark-3.1.2-bin-hadoop2.7.tgz"
      ]
    },
    {
      "cell_type": "code",
      "execution_count": null,
      "metadata": {
        "id": "pGY2W-8DwAhU"
      },
      "outputs": [],
      "source": [
        "!tar xf spark-3.1.2-bin-hadoop2.7.tgz"
      ]
    },
    {
      "cell_type": "code",
      "execution_count": null,
      "metadata": {
        "id": "bwhuV68WwEeM"
      },
      "outputs": [],
      "source": [
        "!pip install -q findspark"
      ]
    },
    {
      "cell_type": "code",
      "execution_count": null,
      "metadata": {
        "colab": {
          "base_uri": "https://localhost:8080/"
        },
        "id": "eq26aAiRwGrE",
        "outputId": "9ae6ccf5-3d2a-4cfa-bcf1-130159d8c26c"
      },
      "outputs": [
        {
          "output_type": "stream",
          "name": "stdout",
          "text": [
            "\u001b[2K     \u001b[90m━━━━━━━━━━━━━━━━━━━━━━━━━━━━━━━━━━━━━━━\u001b[0m \u001b[32m310.8/310.8 MB\u001b[0m \u001b[31m4.2 MB/s\u001b[0m eta \u001b[36m0:00:00\u001b[0m\n",
            "\u001b[?25h  Preparing metadata (setup.py) ... \u001b[?25l\u001b[?25hdone\n",
            "  Building wheel for pyspark (setup.py) ... \u001b[?25l\u001b[?25hdone\n"
          ]
        }
      ],
      "source": [
        "!pip install -q pyspark"
      ]
    },
    {
      "cell_type": "code",
      "execution_count": null,
      "metadata": {
        "id": "ZH_g_cwrwRbl"
      },
      "outputs": [],
      "source": [
        "import os\n",
        "os.environ['JAVA_HOME'] = '/usr/lib/jvm/java-8-openjdk-amd64'\n",
        "os.environ['SPARK_HOME'] = '/content/spark-3.1.2-bin-hadoop2.7'"
      ]
    },
    {
      "cell_type": "code",
      "execution_count": null,
      "metadata": {
        "id": "5JHhKbVOwXFV"
      },
      "outputs": [],
      "source": [
        "import findspark\n",
        "findspark.init()"
      ]
    },
    {
      "cell_type": "code",
      "execution_count": null,
      "metadata": {
        "id": "qMCIyKOXwaAr"
      },
      "outputs": [],
      "source": [
        "from pyspark.sql import SparkSession\n",
        "\n",
        "spark = SparkSession.builder\\\n",
        "                    .master('local[*]')\\\n",
        "                    .appName('Spark03')\\\n",
        "                    .getOrCreate()"
      ]
    },
    {
      "cell_type": "markdown",
      "metadata": {
        "id": "PIrNUYOyy6ZY"
      },
      "source": [
        "driver.csv"
      ]
    },
    {
      "cell_type": "code",
      "execution_count": null,
      "metadata": {
        "id": "gWlMNs62wfXJ"
      },
      "outputs": [],
      "source": [
        "path = '/content/Formula1/drivers.csv'\n",
        "dataframe1 = spark.read.csv(path, sep=',', inferSchema=True, header=True)"
      ]
    },
    {
      "cell_type": "code",
      "execution_count": null,
      "metadata": {
        "id": "WSt7JSiBxRXS"
      },
      "outputs": [],
      "source": [
        "dataframe1 = dataframe1.drop('url')\n",
        "dataframe1 = dataframe1.drop('number')\n",
        "dataframe1 = dataframe1.drop('driverRef')"
      ]
    },
    {
      "cell_type": "code",
      "execution_count": null,
      "metadata": {
        "id": "XMRjtbfYxmg_"
      },
      "outputs": [],
      "source": [
        "dataframe1 = dataframe1\\\n",
        ".toDF('id_piloto',  'codigo', 'prim_nome', 'ult_nome', 'dt_nasc', 'nacionalidade_piloto')"
      ]
    },
    {
      "cell_type": "code",
      "execution_count": null,
      "metadata": {
        "colab": {
          "base_uri": "https://localhost:8080/"
        },
        "id": "eQFWX4RowlRU",
        "outputId": "2f7d4579-3a80-4e29-b4e2-dbd9fd079830"
      },
      "outputs": [
        {
          "output_type": "stream",
          "name": "stdout",
          "text": [
            "+---------+------+---------+----------+----------+--------------------+\n",
            "|id_piloto|codigo|prim_nome|  ult_nome|   dt_nasc|nacionalidade_piloto|\n",
            "+---------+------+---------+----------+----------+--------------------+\n",
            "|        1|   HAM|    Lewis|  Hamilton|1985-01-07|             British|\n",
            "|        2|   HEI|     Nick|  Heidfeld|1977-05-10|              German|\n",
            "|        3|   ROS|     Nico|   Rosberg|1985-06-27|              German|\n",
            "|        4|   ALO| Fernando|    Alonso|1981-07-29|             Spanish|\n",
            "|        5|   KOV|   Heikki|Kovalainen|1981-10-19|             Finnish|\n",
            "|        6|   NAK|   Kazuki|  Nakajima|1985-01-11|            Japanese|\n",
            "|        7|   BOU|Sébastien|  Bourdais|1979-02-28|              French|\n",
            "|        8|   RAI|     Kimi| Räikkönen|1979-10-17|             Finnish|\n",
            "|        9|   KUB|   Robert|    Kubica|1984-12-07|              Polish|\n",
            "|       10|   GLO|     Timo|     Glock|1982-03-18|              German|\n",
            "|       11|   SAT|   Takuma|      Sato|1977-01-28|            Japanese|\n",
            "|       12|   PIQ|   Nelson|Piquet Jr.|1985-07-25|           Brazilian|\n",
            "|       13|   MAS|   Felipe|     Massa|1981-04-25|           Brazilian|\n",
            "|       14|   COU|    David| Coulthard|1971-03-27|             British|\n",
            "|       15|   TRU|    Jarno|    Trulli|1974-07-13|             Italian|\n",
            "|       16|   SUT|   Adrian|     Sutil|1983-01-11|              German|\n",
            "|       17|   WEB|     Mark|    Webber|1976-08-27|          Australian|\n",
            "|       18|   BUT|   Jenson|    Button|1980-01-19|             British|\n",
            "|       19|   DAV|  Anthony|  Davidson|1979-04-18|             British|\n",
            "|       20|   VET|Sebastian|    Vettel|1987-07-03|              German|\n",
            "+---------+------+---------+----------+----------+--------------------+\n",
            "only showing top 20 rows\n",
            "\n"
          ]
        }
      ],
      "source": [
        "dataframe1.show()"
      ]
    },
    {
      "cell_type": "markdown",
      "metadata": {
        "id": "Jj1zohIfzBae"
      },
      "source": [
        "contructor.csv"
      ]
    },
    {
      "cell_type": "code",
      "execution_count": null,
      "metadata": {
        "id": "YZJXHb5cywBH"
      },
      "outputs": [],
      "source": [
        "path = '/content/Formula1/constructors.csv'\n",
        "dataframe2 = spark.read.csv(path, sep=',', inferSchema=True, header=True)"
      ]
    },
    {
      "cell_type": "code",
      "execution_count": null,
      "metadata": {
        "id": "UFY7JEFezflX"
      },
      "outputs": [],
      "source": [
        "dataframe2 = dataframe2.drop('constructorRef')\n",
        "dataframe2 = dataframe2.drop('url')"
      ]
    },
    {
      "cell_type": "code",
      "execution_count": null,
      "metadata": {
        "id": "5Pb35YVGz2uf"
      },
      "outputs": [],
      "source": [
        "dataframe2 = dataframe2\\\n",
        ".toDF('id_construtor',  'nome_equipe', 'nacionalidade_equipe')"
      ]
    },
    {
      "cell_type": "code",
      "execution_count": null,
      "metadata": {
        "colab": {
          "base_uri": "https://localhost:8080/"
        },
        "id": "7Uswv2RezUB8",
        "outputId": "608d679c-8290-41bb-f813-794023ac5fa5"
      },
      "outputs": [
        {
          "output_type": "stream",
          "name": "stdout",
          "text": [
            "+-------------+-----------+--------------------+\n",
            "|id_construtor|nome_equipe|nacionalidade_equipe|\n",
            "+-------------+-----------+--------------------+\n",
            "|            1|    McLaren|             British|\n",
            "|            2| BMW Sauber|              German|\n",
            "|            3|   Williams|             British|\n",
            "|            4|    Renault|              French|\n",
            "|            5| Toro Rosso|             Italian|\n",
            "|            6|    Ferrari|             Italian|\n",
            "|            7|     Toyota|            Japanese|\n",
            "|            8|Super Aguri|            Japanese|\n",
            "|            9|   Red Bull|            Austrian|\n",
            "|           10|Force India|              Indian|\n",
            "|           11|      Honda|            Japanese|\n",
            "|           12|     Spyker|               Dutch|\n",
            "|           13|        MF1|             Russian|\n",
            "|           14| Spyker MF1|               Dutch|\n",
            "|           15|     Sauber|               Swiss|\n",
            "|           16|        BAR|             British|\n",
            "|           17|     Jordan|               Irish|\n",
            "|           18|    Minardi|             Italian|\n",
            "|           19|     Jaguar|             British|\n",
            "|           20|      Prost|              French|\n",
            "+-------------+-----------+--------------------+\n",
            "only showing top 20 rows\n",
            "\n"
          ]
        }
      ],
      "source": [
        "dataframe2.show()"
      ]
    },
    {
      "cell_type": "markdown",
      "metadata": {
        "id": "Xm_w-mQw4arD"
      },
      "source": [
        "results.csv"
      ]
    },
    {
      "cell_type": "code",
      "execution_count": null,
      "metadata": {
        "id": "6ITzfrXu4YI_"
      },
      "outputs": [],
      "source": [
        "path = '/content/Formula1/results.csv'\n",
        "dataframe3 = spark.read.csv(path, sep=',', inferSchema=True, header=True)"
      ]
    },
    {
      "cell_type": "code",
      "execution_count": null,
      "metadata": {
        "id": "Po_3Wv655CDX"
      },
      "outputs": [],
      "source": [
        "dataframe3 = dataframe3.drop('resultId', 'number',\n",
        "            'grid', 'positionText', 'positionOrder', 'points',\n",
        "            'laps', 'time', 'milliseconds', 'fastestLap', 'rank', 'fastestLapTime',\n",
        "            'fastestLapSpeed', 'statusId')"
      ]
    },
    {
      "cell_type": "code",
      "execution_count": null,
      "metadata": {
        "id": "FYLBYqQ96ypG"
      },
      "outputs": [],
      "source": [
        "dataframe3 = dataframe3\\\n",
        ".toDF('id_corrida',  'id_piloto', 'id_construtor', 'posicao')"
      ]
    },
    {
      "cell_type": "code",
      "execution_count": null,
      "metadata": {
        "colab": {
          "base_uri": "https://localhost:8080/"
        },
        "id": "UAg-XIOa44eN",
        "outputId": "c13db5f4-c595-4471-a51e-cc125fb7833f"
      },
      "outputs": [
        {
          "output_type": "stream",
          "name": "stdout",
          "text": [
            "+----------+---------+-------------+-------+\n",
            "|id_corrida|id_piloto|id_construtor|posicao|\n",
            "+----------+---------+-------------+-------+\n",
            "|        18|        1|            1|      1|\n",
            "|        18|        2|            2|      2|\n",
            "|        18|        3|            3|      3|\n",
            "|        18|        4|            4|      4|\n",
            "|        18|        5|            1|      5|\n",
            "|        18|        6|            3|      6|\n",
            "|        18|        7|            5|      7|\n",
            "|        18|        8|            6|      8|\n",
            "|        18|        9|            2|     \\N|\n",
            "|        18|       10|            7|     \\N|\n",
            "|        18|       11|            8|     \\N|\n",
            "|        18|       12|            4|     \\N|\n",
            "|        18|       13|            6|     \\N|\n",
            "|        18|       14|            9|     \\N|\n",
            "|        18|       15|            7|     \\N|\n",
            "|        18|       16|           10|     \\N|\n",
            "|        18|       17|            9|     \\N|\n",
            "|        18|       18|           11|     \\N|\n",
            "|        18|       19|            8|     \\N|\n",
            "|        18|       20|            5|     \\N|\n",
            "+----------+---------+-------------+-------+\n",
            "only showing top 20 rows\n",
            "\n"
          ]
        }
      ],
      "source": [
        "dataframe3.show()"
      ]
    },
    {
      "cell_type": "markdown",
      "metadata": {
        "id": "A8x0MWUf7JWJ"
      },
      "source": [
        "races.csv"
      ]
    },
    {
      "cell_type": "code",
      "execution_count": null,
      "metadata": {
        "id": "ddMjPtKI7OHJ"
      },
      "outputs": [],
      "source": [
        "path = '/content/Formula1/races.csv'\n",
        "dataframe4 = spark.read.csv(path, sep=',', inferSchema=True, header=True)"
      ]
    },
    {
      "cell_type": "code",
      "execution_count": null,
      "metadata": {
        "id": "dV_ImUc37b_I"
      },
      "outputs": [],
      "source": [
        "dataframe4 = dataframe4.drop('circuitId', 'name', 'date', 'time', 'url',\n",
        "                           'fp1_date', 'fp1_time', 'fp2_date', 'fp2_time',\n",
        "                           'fp3_date', 'fp3_time', 'quali_date', 'quali_time',\n",
        "                           'sprint_date', 'sprint_time')"
      ]
    },
    {
      "cell_type": "code",
      "execution_count": null,
      "metadata": {
        "id": "8JY5CyJR8k54"
      },
      "outputs": [],
      "source": [
        "dataframe4 = dataframe4\\\n",
        ".toDF('id_corrida',  'ano', 'etapa')"
      ]
    },
    {
      "cell_type": "code",
      "execution_count": null,
      "metadata": {
        "colab": {
          "base_uri": "https://localhost:8080/"
        },
        "id": "ASxw78ch7YIZ",
        "outputId": "fadad793-fe02-4ad8-be60-f028e09fc720"
      },
      "outputs": [
        {
          "output_type": "stream",
          "name": "stdout",
          "text": [
            "+----------+----+-----+\n",
            "|id_corrida| ano|etapa|\n",
            "+----------+----+-----+\n",
            "|         1|2009|    1|\n",
            "|         2|2009|    2|\n",
            "|         3|2009|    3|\n",
            "|         4|2009|    4|\n",
            "|         5|2009|    5|\n",
            "|         6|2009|    6|\n",
            "|         7|2009|    7|\n",
            "|         8|2009|    8|\n",
            "|         9|2009|    9|\n",
            "|        10|2009|   10|\n",
            "|        11|2009|   11|\n",
            "|        12|2009|   12|\n",
            "|        13|2009|   13|\n",
            "|        14|2009|   14|\n",
            "|        15|2009|   15|\n",
            "|        16|2009|   16|\n",
            "|        17|2009|   17|\n",
            "|        18|2008|    1|\n",
            "|        19|2008|    2|\n",
            "|        20|2008|    3|\n",
            "+----------+----+-----+\n",
            "only showing top 20 rows\n",
            "\n"
          ]
        }
      ],
      "source": [
        "dataframe4.show()"
      ]
    },
    {
      "cell_type": "markdown",
      "metadata": {
        "id": "NtyRjft2D_ki"
      },
      "source": [
        "Juntando as tabelas"
      ]
    },
    {
      "cell_type": "code",
      "execution_count": null,
      "metadata": {
        "id": "pOXZ2SlLECMI"
      },
      "outputs": [],
      "source": [
        "dataframe5 = (dataframe1.join(dataframe3, 'id_piloto', how='outer').orderBy('id_piloto'))\n",
        "dataframe5.show(10)"
      ]
    },
    {
      "cell_type": "code",
      "execution_count": null,
      "metadata": {
        "id": "MiOUZAd9-xZ5"
      },
      "outputs": [],
      "source": [
        "dataframe6 = (dataframe5.join(dataframe2, 'id_construtor', how='outer'))\n",
        "dataframe6.show()"
      ]
    },
    {
      "cell_type": "code",
      "execution_count": null,
      "metadata": {
        "colab": {
          "base_uri": "https://localhost:8080/"
        },
        "id": "0LjQvdF2DYSI",
        "outputId": "6c6d6533-97cc-4188-af77-ea30a417041f"
      },
      "outputs": [
        {
          "output_type": "stream",
          "name": "stdout",
          "text": [
            "+----------+-------------+---------+------+---------+-------------+----------+--------------------+-------+-----------+--------------------+----+-----+\n",
            "|id_corrida|id_construtor|id_piloto|codigo|prim_nome|     ult_nome|   dt_nasc|nacionalidade_piloto|posicao|nome_equipe|nacionalidade_equipe| ano|etapa|\n",
            "+----------+-------------+---------+------+---------+-------------+----------+--------------------+-------+-----------+--------------------+----+-----+\n",
            "|       148|           22|       21|   FIS|Giancarlo|   Fisichella|1973-01-14|             Italian|     \\N|   Benetton|             Italian|2001|    8|\n",
            "|       148|           22|       18|   BUT|   Jenson|       Button|1980-01-19|             British|     \\N|   Benetton|             Italian|2001|    8|\n",
            "|       148|            1|       57|    \\N|     Mika|     Häkkinen|1968-09-28|             Finnish|      3|    McLaren|             British|2001|    8|\n",
            "|       148|            1|       14|   COU|    David|    Coulthard|1971-03-27|             British|     \\N|    McLaren|             British|2001|    8|\n",
            "|       148|            6|       22|   BAR|   Rubens|  Barrichello|1972-05-23|           Brazilian|     \\N|    Ferrari|             Italian|2001|    8|\n",
            "|       148|            6|       30|   MSC|  Michael|   Schumacher|1969-01-03|              German|      2|    Ferrari|             Italian|2001|    8|\n",
            "|       148|           16|       44|    \\N|  Olivier|        Panis|1966-09-02|              French|     \\N|        BAR|             British|2001|    8|\n",
            "|       148|           16|       35|   VIL|  Jacques|   Villeneuve|1971-04-09|            Canadian|     \\N|        BAR|             British|2001|    8|\n",
            "|       148|            3|       31|   MON|     Juan|Pablo Montoya|1975-09-20|           Colombian|     \\N|   Williams|             British|2001|    8|\n",
            "|       148|            3|       23|   SCH|     Ralf|   Schumacher|1975-06-30|              German|      1|   Williams|             British|2001|    8|\n",
            "|       148|           20|       54|    \\N|  Luciano|        Burti|1975-03-05|           Brazilian|      8|      Prost|              French|2001|    8|\n",
            "|       148|           20|       55|    \\N|     Jean|        Alesi|1964-06-11|              French|      5|      Prost|              French|2001|    8|\n",
            "|       148|           19|       37|   DLR|    Pedro|   de la Rosa|1971-02-24|             Spanish|      6|     Jaguar|             British|2001|    8|\n",
            "|       148|           19|       56|    \\N|    Eddie|       Irvine|1965-11-10|             British|     \\N|     Jaguar|             British|2001|    8|\n",
            "|       148|           15|        8|   RAI|     Kimi|    Räikkönen|1979-10-17|             Finnish|      4|     Sauber|               Swiss|2001|    8|\n",
            "|       148|           15|        2|   HEI|     Nick|     Heidfeld|1977-05-10|              German|     \\N|     Sauber|               Swiss|2001|    8|\n",
            "|       148|           17|       41|   ZON|  Ricardo|        Zonta|1976-03-23|           Brazilian|      7|     Jordan|               Irish|2001|    8|\n",
            "|       148|           17|       15|   TRU|    Jarno|       Trulli|1974-07-13|             Italian|     11|     Jordan|               Irish|2001|    8|\n",
            "|       148|           21|       59|    \\N|  Enrique|     Bernoldi|1978-10-19|           Brazilian|     \\N|     Arrows|             British|2001|    8|\n",
            "|       148|           21|       50|    \\N|      Jos|   Verstappen|1972-03-04|               Dutch|     10|     Arrows|             British|2001|    8|\n",
            "+----------+-------------+---------+------+---------+-------------+----------+--------------------+-------+-----------+--------------------+----+-----+\n",
            "only showing top 20 rows\n",
            "\n"
          ]
        }
      ],
      "source": [
        "Tabela_f1 = (dataframe6.join(dataframe4, 'id_corrida', how='outer'))\n",
        "Tabela_f1.show()"
      ]
    },
    {
      "cell_type": "markdown",
      "metadata": {
        "id": "tod5hj5SE5SO"
      },
      "source": [
        "### **Consultas**"
      ]
    },
    {
      "cell_type": "markdown",
      "metadata": {
        "id": "O7MNt--FFk3f"
      },
      "source": [
        "Lista de todas as equipes."
      ]
    },
    {
      "cell_type": "code",
      "execution_count": null,
      "metadata": {
        "id": "DwiLgCTBEjH7",
        "colab": {
          "base_uri": "https://localhost:8080/"
        },
        "outputId": "0da854eb-b9bd-425b-9f76-a481c6f1b04c"
      },
      "outputs": [
        {
          "output_type": "stream",
          "name": "stdout",
          "text": [
            "+-----------------+--------------------+\n",
            "|      nome_equipe|nacionalidade_equipe|\n",
            "+-----------------+--------------------+\n",
            "|              AFM|              German|\n",
            "|              AGS|              French|\n",
            "|              ATS|             Italian|\n",
            "|            Adams|            American|\n",
            "|       Alfa Romeo|               Swiss|\n",
            "|       AlphaTauri|             Italian|\n",
            "|   Alpine F1 Team|              French|\n",
            "|             Alta|             British|\n",
            "|             Amon|       New Zealander|\n",
            "|      Andrea Moda|             Italian|\n",
            "|          Apollon|               Swiss|\n",
            "|           Arrows|             British|\n",
            "|   Arzani-Volpini|             Italian|\n",
            "|Aston Butterworth|             British|\n",
            "|     Aston Martin|             British|\n",
            "|              BAR|             British|\n",
            "|              BMW|              German|\n",
            "|       BMW Sauber|              German|\n",
            "|              BRM|             British|\n",
            "|         BRM-Ford|             British|\n",
            "+-----------------+--------------------+\n",
            "only showing top 20 rows\n",
            "\n"
          ]
        }
      ],
      "source": [
        "dataframe2.select('nome_equipe', 'nacionalidade_equipe')\\\n",
        "            .orderBy('nome_equipe', ascending=True)\\\n",
        "            .show()"
      ]
    },
    {
      "cell_type": "markdown",
      "metadata": {
        "id": "Cj_5tDlnFrMF"
      },
      "source": [
        "Lista de todas os pilotos da Ferrari"
      ]
    },
    {
      "cell_type": "code",
      "execution_count": null,
      "metadata": {
        "id": "LFrTO7dAFTQi",
        "colab": {
          "base_uri": "https://localhost:8080/"
        },
        "outputId": "5b5f4955-ab74-4bc3-ecc5-46318ef118f9"
      },
      "outputs": [
        {
          "output_type": "stream",
          "name": "stdout",
          "text": [
            "+---------+---------+--------------------+\n",
            "|prim_nome| ult_nome|nacionalidade_piloto|\n",
            "+---------+---------+--------------------+\n",
            "|     Kimi|Räikkönen|             Finnish|\n",
            "|   Felipe|    Massa|           Brazilian|\n",
            "|     Kimi|Räikkönen|             Finnish|\n",
            "|   Felipe|    Massa|           Brazilian|\n",
            "|   Felipe|    Massa|           Brazilian|\n",
            "|     Kimi|Räikkönen|             Finnish|\n",
            "|     Kimi|Räikkönen|             Finnish|\n",
            "|   Felipe|    Massa|           Brazilian|\n",
            "|   Felipe|    Massa|           Brazilian|\n",
            "|     Kimi|Räikkönen|             Finnish|\n",
            "|   Felipe|    Massa|           Brazilian|\n",
            "|     Kimi|Räikkönen|             Finnish|\n",
            "|   Felipe|    Massa|           Brazilian|\n",
            "|     Kimi|Räikkönen|             Finnish|\n",
            "|   Felipe|    Massa|           Brazilian|\n",
            "|     Kimi|Räikkönen|             Finnish|\n",
            "|     Kimi|Räikkönen|             Finnish|\n",
            "|   Felipe|    Massa|           Brazilian|\n",
            "|   Felipe|    Massa|           Brazilian|\n",
            "|     Kimi|Räikkönen|             Finnish|\n",
            "+---------+---------+--------------------+\n",
            "only showing top 20 rows\n",
            "\n"
          ]
        }
      ],
      "source": [
        "Tabela_f1.select('prim_nome', 'ult_nome', 'nacionalidade_piloto')\\\n",
        "          .where(\"nome_equipe == 'Ferrari'\").show()"
      ]
    },
    {
      "cell_type": "markdown",
      "metadata": {
        "id": "Y4O-_lM7Ii2x"
      },
      "source": [
        "Os 6 primeiro colocados e 1993"
      ]
    },
    {
      "cell_type": "code",
      "execution_count": null,
      "metadata": {
        "id": "_YEQcEnMIr1s",
        "colab": {
          "base_uri": "https://localhost:8080/"
        },
        "outputId": "7b465b86-1dd8-4fb9-c0e4-caff991321b5"
      },
      "outputs": [
        {
          "output_type": "stream",
          "name": "stdout",
          "text": [
            "+-------+---------+----------+--------------------+\n",
            "|posicao|prim_nome|  ult_nome|nacionalidade_piloto|\n",
            "+-------+---------+----------+--------------------+\n",
            "|      1|    Damon|      Hill|             British|\n",
            "|      2|     Jean|     Alesi|              French|\n",
            "|      3|  Michael|  Andretti|            American|\n",
            "|      4|     Karl|Wendlinger|            Austrian|\n",
            "|      5| Riccardo|   Patrese|             Italian|\n",
            "|      6|     Érik|     Comas|              French|\n",
            "+-------+---------+----------+--------------------+\n",
            "only showing top 6 rows\n",
            "\n"
          ]
        }
      ],
      "source": [
        "Tabela_f1.select('posicao', 'prim_nome', 'ult_nome', 'nacionalidade_piloto')\\\n",
        "          .where(\"ano == '1993'\").show(6)"
      ]
    },
    {
      "cell_type": "markdown",
      "metadata": {
        "id": "KCai-ha0K4Rl"
      },
      "source": [
        "Pilotos que não terminaram em 1993"
      ]
    },
    {
      "cell_type": "code",
      "execution_count": null,
      "metadata": {
        "id": "p5CJGgB8K8MX",
        "colab": {
          "base_uri": "https://localhost:8080/"
        },
        "outputId": "482bf045-78c0-4df8-ca00-b5db06b5f9a3"
      },
      "outputs": [
        {
          "output_type": "stream",
          "name": "stdout",
          "text": [
            "+----------+-----------+--------------------+\n",
            "| prim_nome|   ult_nome|nacionalidade_piloto|\n",
            "+----------+-----------+--------------------+\n",
            "|    Martin|    Brundle|             British|\n",
            "|   Michele|   Alboreto|             Italian|\n",
            "|      Érik|      Comas|              French|\n",
            "|  Riccardo|    Patrese|             Italian|\n",
            "|   Michael| Schumacher|              German|\n",
            "|    Johnny|    Herbert|             British|\n",
            "|      Karl| Wendlinger|            Austrian|\n",
            "|    Rubens|Barrichello|           Brazilian|\n",
            "|      Jean|      Alesi|              French|\n",
            "|  Philippe|     Alliot|              French|\n",
            "|  Fabrizio|   Barbazza|             Italian|\n",
            "|     Aguri|     Suzuki|            Japanese|\n",
            "|      Luca|     Badoer|             Italian|\n",
            "|     Damon|       Hill|             British|\n",
            "|Alessandro|    Zanardi|             Italian|\n",
            "|   Michael|   Andretti|            American|\n",
            "|      Ivan|    Capelli|             Italian|\n",
            "|      Ukyo|   Katayama|            Japanese|\n",
            "|    Andrea| de Cesaris|             Italian|\n",
            "|      Karl| Wendlinger|            Austrian|\n",
            "+----------+-----------+--------------------+\n",
            "only showing top 20 rows\n",
            "\n"
          ]
        }
      ],
      "source": [
        "Tabela_f1.select('prim_nome','ult_nome','nacionalidade_piloto')\\\n",
        "        .where(\"posicao like '%N'AND ano == '1993'\").show()"
      ]
    },
    {
      "cell_type": "markdown",
      "source": [
        "Todos os vencedores da história dos GP's do Brasil"
      ],
      "metadata": {
        "id": "z1qBTFZiV5R4"
      }
    },
    {
      "cell_type": "code",
      "source": [
        "Tabela_f1.select('prim_nome','ult_nome','nacionalidade_piloto')\\\n",
        "              .where(\"posicao == '1'\").show()"
      ],
      "metadata": {
        "id": "yILUE3SjVy-J",
        "colab": {
          "base_uri": "https://localhost:8080/"
        },
        "outputId": "9ff08c7d-6668-4626-c135-586a00577071"
      },
      "execution_count": null,
      "outputs": [
        {
          "output_type": "stream",
          "name": "stdout",
          "text": [
            "+---------+----------+--------------------+\n",
            "|prim_nome|  ult_nome|nacionalidade_piloto|\n",
            "+---------+----------+--------------------+\n",
            "|    Lewis|  Hamilton|             British|\n",
            "|     Kimi| Räikkönen|             Finnish|\n",
            "|   Felipe|     Massa|           Brazilian|\n",
            "|     Kimi| Räikkönen|             Finnish|\n",
            "|   Felipe|     Massa|           Brazilian|\n",
            "|    Lewis|  Hamilton|             British|\n",
            "|   Robert|    Kubica|              Polish|\n",
            "|   Felipe|     Massa|           Brazilian|\n",
            "|    Lewis|  Hamilton|             British|\n",
            "|    Lewis|  Hamilton|             British|\n",
            "|   Heikki|Kovalainen|             Finnish|\n",
            "|   Felipe|     Massa|           Brazilian|\n",
            "|   Felipe|     Massa|           Brazilian|\n",
            "|Sebastian|    Vettel|              German|\n",
            "| Fernando|    Alonso|             Spanish|\n",
            "| Fernando|    Alonso|             Spanish|\n",
            "|    Lewis|  Hamilton|             British|\n",
            "|   Felipe|     Massa|           Brazilian|\n",
            "|     Kimi| Räikkönen|             Finnish|\n",
            "| Fernando|    Alonso|             Spanish|\n",
            "+---------+----------+--------------------+\n",
            "only showing top 20 rows\n",
            "\n"
          ]
        }
      ]
    },
    {
      "cell_type": "markdown",
      "source": [
        "Vencedor de cada corrida, com nome e data da corrida."
      ],
      "metadata": {
        "id": "NC4eiqA9ZQ1W"
      }
    },
    {
      "cell_type": "code",
      "source": [
        "Tabela_f1.select('prim_nome','ult_nome','ano').where('posicao == 1').show()"
      ],
      "metadata": {
        "id": "HxvL6d5hZUZS",
        "colab": {
          "base_uri": "https://localhost:8080/"
        },
        "outputId": "79a41db2-b3fd-48cc-a213-d35b05d6ba98"
      },
      "execution_count": null,
      "outputs": [
        {
          "output_type": "stream",
          "name": "stdout",
          "text": [
            "+---------+----------+----+\n",
            "|prim_nome|  ult_nome| ano|\n",
            "+---------+----------+----+\n",
            "|    Lewis|  Hamilton|2008|\n",
            "|     Kimi| Räikkönen|2008|\n",
            "|   Felipe|     Massa|2008|\n",
            "|     Kimi| Räikkönen|2008|\n",
            "|   Felipe|     Massa|2008|\n",
            "|    Lewis|  Hamilton|2008|\n",
            "|   Robert|    Kubica|2008|\n",
            "|   Felipe|     Massa|2008|\n",
            "|    Lewis|  Hamilton|2008|\n",
            "|    Lewis|  Hamilton|2008|\n",
            "|   Heikki|Kovalainen|2008|\n",
            "|   Felipe|     Massa|2008|\n",
            "|   Felipe|     Massa|2008|\n",
            "|Sebastian|    Vettel|2008|\n",
            "| Fernando|    Alonso|2008|\n",
            "| Fernando|    Alonso|2008|\n",
            "|    Lewis|  Hamilton|2008|\n",
            "|   Felipe|     Massa|2008|\n",
            "|     Kimi| Räikkönen|2007|\n",
            "| Fernando|    Alonso|2007|\n",
            "+---------+----------+----+\n",
            "only showing top 20 rows\n",
            "\n"
          ]
        }
      ]
    },
    {
      "cell_type": "markdown",
      "source": [
        "Total de corridas realizadas no ano de 2010."
      ],
      "metadata": {
        "id": "ehaw1sVdZf_X"
      }
    },
    {
      "cell_type": "code",
      "source": [
        "dataframe4.groupBy('ano').count().where('ano == 2010').show()"
      ],
      "metadata": {
        "colab": {
          "base_uri": "https://localhost:8080/"
        },
        "id": "rBPtvtzZZmqH",
        "outputId": "c5476b32-0fa5-446a-dcec-329280c47923"
      },
      "execution_count": null,
      "outputs": [
        {
          "output_type": "stream",
          "name": "stdout",
          "text": [
            "+----+-----+\n",
            "| ano|count|\n",
            "+----+-----+\n",
            "|2010|   19|\n",
            "+----+-----+\n",
            "\n"
          ]
        }
      ]
    },
    {
      "cell_type": "markdown",
      "source": [
        "Total de pontos de cada piloto (somando todas as temporadas), com aniversário e nacionalidade."
      ],
      "metadata": {
        "id": "8LwD1fllaF13"
      }
    },
    {
      "cell_type": "code",
      "source": [
        "path = '/content/Formula1/driver_standings.csv'\n",
        "df_driverstand = spark.read.csv(path, sep=',', inferSchema=True, header=True)"
      ],
      "metadata": {
        "id": "iYhhGL9Lh2Gt"
      },
      "execution_count": null,
      "outputs": []
    },
    {
      "cell_type": "code",
      "source": [
        "from pyspark.sql.functions import col, sum\n",
        "dataframe1.join(df_driverstand, col('id_piloto') == col('driverId'), how = 'inner')\\\n",
        ".groupBy('prim_nome', 'ult_nome', 'dt_nasc', 'nacionalidade_piloto')\\\n",
        ".agg(sum('points'))\\\n",
        ".show()"
      ],
      "metadata": {
        "id": "X6ZJ7uTUiMBF",
        "colab": {
          "base_uri": "https://localhost:8080/"
        },
        "outputId": "e3858b39-b5d1-41af-b8af-e6884d03b402"
      },
      "execution_count": null,
      "outputs": [
        {
          "output_type": "stream",
          "name": "stdout",
          "text": [
            "+---------+--------+----------+--------------------+-----------+\n",
            "|prim_nome|ult_nome|   dt_nasc|nacionalidade_piloto|sum(points)|\n",
            "+---------+--------+----------+--------------------+-----------+\n",
            "|   Johnny| Herbert|1964-06-25|             British|      876.0|\n",
            "| Fabrizio|Barbazza|1963-04-02|             Italian|       27.0|\n",
            "|     Keke| Rosberg|1948-12-06|             Finnish|     1373.5|\n",
            "|   Hubert|   Hahne|1935-03-28|              German|        0.0|\n",
            "|     Phil|    Hill|1927-04-20|            American|      470.0|\n",
            "|   George|  Connor|1906-08-16|            American|        0.0|\n",
            "|     John|  Rhodes|1927-08-18|             British|        0.0|\n",
            "|  Giorgio|   Bassi|1934-01-20|             Italian|        0.0|\n",
            "|      Pat|O'Connor|1928-10-09|            American|        0.0|\n",
            "|    Logan|Sargeant|2000-12-31|            American|        0.0|\n",
            "|  Richard| Robarts|1944-09-22|             British|        0.0|\n",
            "|    Chris|Lawrence|1933-07-27|             British|        0.0|\n",
            "|    Keith|  Greene|1938-01-05|             British|        0.0|\n",
            "|    Mauri|    Rose|1906-05-26|            American|       20.0|\n",
            "|      Rio|Haryanto|1993-01-22|          Indonesian|        0.0|\n",
            "|   Julian|  Bailey|1961-10-09|             British|       14.0|\n",
            "|   Helmut|   Marko|1943-04-27|            Austrian|        0.0|\n",
            "|    Oscar|  Gálvez|1913-08-17|           Argentine|       18.0|\n",
            "|  Charles|     Pic|1990-02-15|              French|        0.0|\n",
            "|  Esteban|   Tuero|1978-04-22|           Argentine|        0.0|\n",
            "+---------+--------+----------+--------------------+-----------+\n",
            "only showing top 20 rows\n",
            "\n"
          ]
        }
      ]
    },
    {
      "cell_type": "markdown",
      "source": [
        "Total de vitorias de cada piloto em toda a historia, com primeiro nome, ultimo nome, aniversário e nacionalidade."
      ],
      "metadata": {
        "id": "ofpw55rTi0Fe"
      }
    },
    {
      "cell_type": "code",
      "source": [
        "Tabela_f1.where('posicao == 1').groupBy('prim_nome','ult_nome','dt_nasc', 'nacionalidade_piloto').count().show()"
      ],
      "metadata": {
        "colab": {
          "base_uri": "https://localhost:8080/"
        },
        "id": "vkfaH9swi3T6",
        "outputId": "46c3775d-cf50-40e6-fe2e-e59817efd0a7"
      },
      "execution_count": null,
      "outputs": [
        {
          "output_type": "stream",
          "name": "stdout",
          "text": [
            "+------------+----------+----------+--------------------+-----+\n",
            "|   prim_nome|  ult_nome|   dt_nasc|nacionalidade_piloto|count|\n",
            "+------------+----------+----------+--------------------+-----+\n",
            "|      Johnny|   Herbert|1964-06-25|             British|    3|\n",
            "|        Keke|   Rosberg|1948-12-06|             Finnish|    5|\n",
            "|        Phil|      Hill|1927-04-20|            American|    3|\n",
            "|         Jim|  Rathmann|1928-07-16|            American|    1|\n",
            "|      Gilles|Villeneuve|1950-01-18|            Canadian|    6|\n",
            "|    Ludovico|Scarfiotti|1933-10-18|             Italian|    1|\n",
            "|José Froilán|  González|1922-10-05|           Argentine|    2|\n",
            "|     Johnnie|   Parsons|1918-07-04|            American|    1|\n",
            "|     Alberto|    Ascari|1918-07-13|             Italian|   13|\n",
            "|   Giancarlo|  Baghetti|1934-12-25|             Italian|    1|\n",
            "|        Nico|   Rosberg|1985-06-27|              German|   23|\n",
            "|       Pedro| Rodríguez|1940-01-18|             Mexican|    2|\n",
            "|        Mika|  Häkkinen|1968-09-28|             Finnish|   20|\n",
            "|     Michele|  Alboreto|1956-12-23|             Italian|    5|\n",
            "|        Jean|     Alesi|1964-06-11|              French|    1|\n",
            "|      Pastor| Maldonado|1985-03-09|          Venezuelan|    1|\n",
            "|        Kimi| Räikkönen|1979-10-17|             Finnish|   21|\n",
            "|         Dan|    Gurney|1931-04-13|            American|    4|\n",
            "|       Jimmy|     Bryan|1926-01-28|            American|    1|\n",
            "|       Denny|     Hulme|1936-06-18|       New Zealander|    8|\n",
            "+------------+----------+----------+--------------------+-----+\n",
            "only showing top 20 rows\n",
            "\n"
          ]
        }
      ]
    },
    {
      "cell_type": "markdown",
      "source": [
        "Todas as vitorias do piloto \"Michael Schumacher\", com primeiro nome, ultimo nome, nome da corrida e data da corrida."
      ],
      "metadata": {
        "id": "d8bqkAyYjXZr"
      }
    },
    {
      "cell_type": "code",
      "source": [
        "path = '/content/Formula1/circuits.csv'\n",
        "df_circuitos = spark.read.csv(path, sep=',', inferSchema=True, header=True)"
      ],
      "metadata": {
        "id": "2L4jgsQFk0A0"
      },
      "execution_count": null,
      "outputs": []
    },
    {
      "cell_type": "code",
      "source": [
        "from pyspark.sql.functions import col\n",
        "Tabela_f1.join(df_circuitos, col('etapa') == col('circuitId'), how = 'inner')\\\n",
        "    .select('prim_nome','ult_nome','name', 'ano').where('id_piloto == 30 AND posicao == 1')\\\n",
        "    .show()"
      ],
      "metadata": {
        "colab": {
          "base_uri": "https://localhost:8080/"
        },
        "id": "GFWVWds1yCfa",
        "outputId": "5ad6b09c-dad3-492d-f7c4-457ab6e3712c"
      },
      "execution_count": null,
      "outputs": [
        {
          "output_type": "stream",
          "name": "stdout",
          "text": [
            "+---------+----------+--------------------+----+\n",
            "|prim_nome|  ult_nome|                name| ano|\n",
            "+---------+----------+--------------------+----+\n",
            "|  Michael|Schumacher|Circuit de Barcel...|2006|\n",
            "|  Michael|Schumacher|       Istanbul Park|2006|\n",
            "|  Michael|Schumacher|      Hockenheimring|2006|\n",
            "|  Michael|Schumacher|         Hungaroring|2006|\n",
            "|  Michael|Schumacher|Valencia Street C...|2006|\n",
            "|  Michael|Schumacher|Marina Bay Street...|2006|\n",
            "|  Michael|Schumacher|       Fuji Speedway|2006|\n",
            "|  Michael|Schumacher| Silverstone Circuit|2005|\n",
            "|  Michael|Schumacher|Albert Park Grand...|2004|\n",
            "|  Michael|Schumacher|Sepang Internatio...|2004|\n",
            "|  Michael|Schumacher|Bahrain Internati...|2004|\n",
            "|  Michael|Schumacher|Circuit de Barcel...|2004|\n",
            "|  Michael|Schumacher|       Istanbul Park|2004|\n",
            "|  Michael|Schumacher|Circuit Gilles Vi...|2004|\n",
            "|  Michael|Schumacher|Circuit de Nevers...|2004|\n",
            "|  Michael|Schumacher| Silverstone Circuit|2004|\n",
            "|  Michael|Schumacher|      Hockenheimring|2004|\n",
            "|  Michael|Schumacher|         Hungaroring|2004|\n",
            "|  Michael|Schumacher|Valencia Street C...|2004|\n",
            "|  Michael|Schumacher|Circuit de Spa-Fr...|2004|\n",
            "+---------+----------+--------------------+----+\n",
            "only showing top 20 rows\n",
            "\n"
          ]
        }
      ]
    },
    {
      "cell_type": "markdown",
      "source": [
        "Total de pontos que cada pais (piloto) somou ao longo das temporadas."
      ],
      "metadata": {
        "id": "dFa5vFB-waiY"
      }
    },
    {
      "cell_type": "code",
      "source": [
        "from pyspark.sql.functions import col, sum\n",
        "Tabela_f1.join(df_driverstand, col('id_piloto') == col('driverId'), how = 'inner')\\\n",
        "    .groupBy('nacionalidade_piloto').agg(sum('points')).show(1000)"
      ],
      "metadata": {
        "colab": {
          "base_uri": "https://localhost:8080/"
        },
        "id": "E8tqE2PUwe4f",
        "outputId": "5125e570-34ef-44fa-aa47-98ad9315e3f4"
      },
      "execution_count": null,
      "outputs": [
        {
          "output_type": "stream",
          "name": "stdout",
          "text": [
            "+--------------------+------------------+\n",
            "|nacionalidade_piloto|       sum(points)|\n",
            "+--------------------+------------------+\n",
            "|             Mexican|         3116668.0|\n",
            "|           Rhodesian|             660.0|\n",
            "|             Finnish|       1.1587739E7|\n",
            "|               Swiss|          276638.0|\n",
            "|                Thai|          103390.0|\n",
            "|              Indian|            2640.0|\n",
            "|       South African|          237177.0|\n",
            "|             Chinese|            2457.0|\n",
            "|          Indonesian|               0.0|\n",
            "|   Argentine-Italian|               0.0|\n",
            "|             Chilean|            1110.0|\n",
            "|               Irish|            8232.0|\n",
            "|           Argentine|456755.93999999994|\n",
            "|              Polish|          272052.0|\n",
            "|             British|      2.30939216E7|\n",
            "|            Japanese|          178000.0|\n",
            "|          Australian|         5800323.0|\n",
            "|             Spanish|         9020643.0|\n",
            "|          Portuguese|            2622.0|\n",
            "|           Hungarian|             200.0|\n",
            "|            Austrian|         1382432.0|\n",
            "|       New Zealander|          373870.5|\n",
            "|             Italian|2720921.0700000003|\n",
            "|              Danish|          362899.0|\n",
            "|    American-Italian|               0.0|\n",
            "|         East German|               0.0|\n",
            "|             Russian|          276474.0|\n",
            "|              French| 4639343.470000001|\n",
            "|           Malaysian|               0.0|\n",
            "|           Colombian|          262200.0|\n",
            "|               Dutch|         3526609.0|\n",
            "|           Uruguayan|               0.0|\n",
            "|           Brazilian|         7104646.5|\n",
            "|     Liechtensteiner|               0.0|\n",
            "|          Monegasque|         1058052.0|\n",
            "|              German|       2.0176864E7|\n",
            "|          Venezuelan|           74818.0|\n",
            "|             Swedish|          290418.0|\n",
            "|            American|          435777.0|\n",
            "|             Belgian|          323982.0|\n",
            "|               Czech|               0.0|\n",
            "|            Canadian|          665199.0|\n",
            "+--------------------+------------------+\n",
            "\n"
          ]
        }
      ]
    },
    {
      "cell_type": "markdown",
      "source": [
        "Total de pontos que cada equipe somou ao longo das temporadas."
      ],
      "metadata": {
        "id": "iRr9y_8cxIE1"
      }
    },
    {
      "cell_type": "code",
      "source": [
        "path = '/content/Formula1/constructor_standings.csv'\n",
        "df_constrstad = spark.read.csv(path, sep=',', inferSchema=True, header=True)"
      ],
      "metadata": {
        "id": "tVeLEPvRxkCy"
      },
      "execution_count": null,
      "outputs": []
    },
    {
      "cell_type": "code",
      "source": [
        "from pyspark.sql.functions import col, sum\n",
        "Tabela_f1.join(df_constrstad, col('id_construtor') == col('constructorStandingsId'), how = 'inner')\\\n",
        ".groupBy('nacionalidade_piloto').agg(sum('points')).show()"
      ],
      "metadata": {
        "colab": {
          "base_uri": "https://localhost:8080/"
        },
        "id": "JFuKTfnCxMna",
        "outputId": "12db395e-ef6c-4744-84d7-5374386c1dee"
      },
      "execution_count": null,
      "outputs": [
        {
          "output_type": "stream",
          "name": "stdout",
          "text": [
            "+--------------------+-----------+\n",
            "|nacionalidade_piloto|sum(points)|\n",
            "+--------------------+-----------+\n",
            "|             Mexican|     3454.0|\n",
            "|           Rhodesian|      457.0|\n",
            "|             Finnish|    17291.0|\n",
            "|               Swiss|     4749.0|\n",
            "|                Thai|      806.0|\n",
            "|              Indian|     2574.0|\n",
            "|       South African|     2045.0|\n",
            "|             Chinese|     1431.0|\n",
            "|   Argentine-Italian|       30.0|\n",
            "|                null|        7.0|\n",
            "|             Chilean|      303.0|\n",
            "|               Irish|      545.0|\n",
            "|           Argentine|     7309.0|\n",
            "|              Polish|      846.0|\n",
            "|             British|    68995.0|\n",
            "|            Japanese|     5799.0|\n",
            "|          Australian|    15540.0|\n",
            "|             Spanish|     9054.0|\n",
            "|          Portuguese|     1156.0|\n",
            "|           Hungarian|      504.0|\n",
            "+--------------------+-----------+\n",
            "only showing top 20 rows\n",
            "\n"
          ]
        }
      ]
    }
  ],
  "metadata": {
    "colab": {
      "provenance": []
    },
    "kernelspec": {
      "display_name": "Python 3",
      "name": "python3"
    },
    "language_info": {
      "name": "python"
    }
  },
  "nbformat": 4,
  "nbformat_minor": 0
}